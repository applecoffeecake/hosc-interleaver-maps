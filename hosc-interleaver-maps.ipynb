{
 "cells": [
  {
   "cell_type": "markdown",
   "id": "fb24e51e-96fc-41a4-aa59-b0657bba41b6",
   "metadata": {},
   "source": [
    "MIT License\n",
    "\n",
    "Copyright (c) 2024 Mohannad Shehadeh\n",
    "\n",
    "Permission is hereby granted, free of charge, to any person obtaining a copy\n",
    "of this software and associated documentation files (the \"Software\"), to deal\n",
    "in the Software without restriction, including without limitation the rights\n",
    "to use, copy, modify, merge, publish, distribute, sublicense, and/or sell\n",
    "copies of the Software, and to permit persons to whom the Software is\n",
    "furnished to do so, subject to the following conditions:\n",
    "\n",
    "The above copyright notice and this permission notice shall be included in all\n",
    "copies or substantial portions of the Software.\n",
    "\n",
    "THE SOFTWARE IS PROVIDED \"AS IS\", WITHOUT WARRANTY OF ANY KIND, EXPRESS OR\n",
    "IMPLIED, INCLUDING BUT NOT LIMITED TO THE WARRANTIES OF MERCHANTABILITY,\n",
    "FITNESS FOR A PARTICULAR PURPOSE AND NONINFRINGEMENT. IN NO EVENT SHALL THE\n",
    "AUTHORS OR COPYRIGHT HOLDERS BE LIABLE FOR ANY CLAIM, DAMAGES OR OTHER\n",
    "LIABILITY, WHETHER IN AN ACTION OF CONTRACT, TORT OR OTHERWISE, ARISING FROM,\n",
    "OUT OF OR IN CONNECTION WITH THE SOFTWARE OR THE USE OR OTHER DEALINGS IN THE\n",
    "SOFTWARE."
   ]
  },
  {
   "cell_type": "markdown",
   "id": "3be191af-3186-425a-a901-f0c61b39a021",
   "metadata": {},
   "source": [
    "# Higher-Order Staircase Code Interleaver Maps"
   ]
  },
  {
   "cell_type": "markdown",
   "id": "939b2c91-59bf-4c9a-8a43-737a624f23c9",
   "metadata": {},
   "source": [
    "This [Julia](https://julialang.org/) language notebook constructs encoders for strictly memory-optimal [Higher-Order Staircase Codes](https://arxiv.org/pdf/2312.13415) in the format of\n",
    "of [Zipper Code](https://ieeexplore.ieee.org/stamp/stamp.jsp?tp=&arnumber=9843869) interleaver maps. It also generates the corresponding [ZipperSim](https://www.comm.utoronto.ca/~frank/ZipperSim/index.html) configuration files as well as visualizations of the encoding procedure."
   ]
  },
  {
   "cell_type": "markdown",
   "id": "a58bf84e-8696-40ad-b1f2-10c4ab74ac83",
   "metadata": {},
   "source": [
    "Start by installing the required packages by uncommenting as needed."
   ]
  },
  {
   "cell_type": "code",
   "execution_count": 1,
   "id": "8c137eab-c6fa-415f-ac11-2197c420d040",
   "metadata": {
    "tags": []
   },
   "outputs": [
    {
     "name": "stdout",
     "output_type": "stream",
     "text": [
      "\n",
      "Welcome to Nemo version 0.45.3\n",
      "\n",
      "Nemo comes with absolutely no warranty whatsoever\n"
     ]
    }
   ],
   "source": [
    "# import Pkg; Pkg.add(\"Nemo\")\n",
    "using Nemo\n",
    "# import Pkg; Pkg.add(\"DelimitedFiles\")\n",
    "using DelimitedFiles\n",
    "include(\"L-one-two-DTSs.jl\");"
   ]
  },
  {
   "cell_type": "markdown",
   "id": "4fa3f979-9864-473f-8cdd-eabb1b0077d0",
   "metadata": {},
   "source": [
    "Choose a degree parameter $M\\in \\{1,2,\\dots,9\\}$. The bit degree will be $M+1$."
   ]
  },
  {
   "cell_type": "code",
   "execution_count": 2,
   "id": "26f483e0-a48d-4394-90d0-13d033cd2951",
   "metadata": {
    "tags": []
   },
   "outputs": [
    {
     "data": {
      "text/plain": [
       "2"
      ]
     },
     "execution_count": 2,
     "metadata": {},
     "output_type": "execute_result"
    }
   ],
   "source": [
    "M = 2"
   ]
  },
  {
   "cell_type": "markdown",
   "id": "674d66cb-fca7-4926-9e43-f6ece0f3f1f1",
   "metadata": {},
   "source": [
    "Choose a tile size $T$ which satisfies one of the following conditions:\n",
    "- $T = 1$\n",
    "- $T$ is a prime power and $M \\leq T$\n",
    "- $M \\leq \\text{ the least prime factor of } T$\n",
    "\n",
    "Note that $T = S/L$ in the [Higher-Order Staircase Codes](https://arxiv.org/pdf/2312.13415) paper."
   ]
  },
  {
   "cell_type": "code",
   "execution_count": 3,
   "id": "6f738a19-9c68-4fd4-869e-6d873b35ad26",
   "metadata": {
    "tags": []
   },
   "outputs": [
    {
     "data": {
      "text/plain": [
       "2"
      ]
     },
     "execution_count": 3,
     "metadata": {},
     "output_type": "execute_result"
    }
   ],
   "source": [
    "T = 2"
   ]
  },
  {
   "cell_type": "code",
   "execution_count": 4,
   "id": "116a878a-cd5b-430f-bc48-996764db8f79",
   "metadata": {
    "tags": []
   },
   "outputs": [
    {
     "data": {
      "text/plain": [
       "\"sufficient lpf\""
      ]
     },
     "execution_count": 4,
     "metadata": {},
     "output_type": "execute_result"
    }
   ],
   "source": [
    "factors = factor(T)\n",
    "prime_factors = [x[1] for x in factors];\n",
    "prime_factor_powers = [x[2] for x in factors];\n",
    "@assert prod(prime_factors .^ prime_factor_powers) == T\n",
    "if T == 1\n",
    "    net_type = \"trivial\"\n",
    "elseif length(prime_factors) == 1 && prime_factor_powers[1] > 1\n",
    "    p = prime_factors[1]\n",
    "    k = prime_factor_powers[1]\n",
    "    @assert T == p^k\n",
    "    F_T, α = finite_field(p,k,\"α\")\n",
    "    # α is a primitive element of the finite field F_T\n",
    "    @assert is_gen(α) \n",
    "    # elements of a finite field of size T: 0,1,α,α^2,...,α^(T-2) (can do finite field arithmetic on)\n",
    "    F_T_SET = [i == -1 ? 0α : α^i for i in -1:T-2]\n",
    "    # dictionary mapping 0,1,α,α^2,...,α^(T-2) to 0,1,...,T-1\n",
    "    F_T_LABELS = Dict(F_T_SET[i] => i-1 for i in 1:T) \n",
    "    @assert [F_T_LABELS[F_T_SET[i]] for i in 1:T] == 0:T-1\n",
    "    net_type = \"prime power\"\n",
    "elseif M <= minimum(prime_factors)\n",
    "    net_type = \"sufficient lpf\" \n",
    "else\n",
    "    throw(\"Tile size requirements not satisfied!\")\n",
    "end"
   ]
  },
  {
   "cell_type": "markdown",
   "id": "24dfec67-c7ce-401b-bdbb-132f88f55155",
   "metadata": {},
   "source": [
    "If $T \\neq 1$, we must define $M$ intra-tile permutations (excluding the identity permutation). We can choose whether or not we want the intra-tile permutations to be involutions (meaning that they are equal to their own inverses) by setting $\\textsf{involutions}$ to be $\\textsf{true}$ or $\\textsf{false}$.\n",
    "\n",
    "If $\\textsf{false}$, the intra-tile permutations are defined by multiplying indices\n",
    "$\\begin{pmatrix} i & j\\end{pmatrix}$ from the right by matrices of the form\n",
    "$$\n",
    "\\begin{pmatrix}\n",
    " 0 & 1\\\\\n",
    " 1 & z\n",
    "\\end{pmatrix}\n",
    "$$\n",
    "which corresponds to transposing the tile and then permuting its columns. The inverse of this matrix is \n",
    "$$\n",
    "\\begin{pmatrix}\n",
    " -z & 1\\\\\n",
    " 1 & 0\n",
    "\\end{pmatrix}\\text{.}\n",
    "$$\n",
    "If $\\textsf{true}$, then the intra-tile permutations are defined by multiplying indices\n",
    "$\\begin{pmatrix} i & j\\end{pmatrix}$ from the right by matrices of the form\n",
    "$$\n",
    "\\begin{pmatrix}\n",
    " -z & 1 - z^2 \\\\\n",
    " 1 & z\n",
    "\\end{pmatrix}\n",
    "$$\n",
    "which are equal to their own inverses meaning that all intra-tile permutations can be undone by permuting again according to the same permutation. \n",
    "\n",
    "There is no theoretical reason to prefer one over the other so this can be chosen based on what is most practically convenient. The first option has the advantage of being amenable to hardware architectures that have already been designed around matrix transposition such as that of [Truhachev et al.](https://ieeexplore.ieee.org/stamp/stamp.jsp?arnumber=9228874&tag=1). The second option has the advantage of saving you from the confusion about when to apply the permutation or when to apply its inverse. Such a mistake is not harmless: It is absolutely crucial that the forward and inverse permutations are not swapped in the code construction **even if done consistently**.\n",
    "\n",
    "If $T$ is a prime power, then we consider a finite field $\\mathbb{F}_T = \\{0,1,\\alpha,\\alpha^2,\\dots,\\alpha^{T-2}\\}$ and perform permutations by $\\mathbb{F}_T$-arithmetic with $z \\in \\{0,1,\\alpha,\\dots,\\alpha^{M-2}\\}$ and $M\\leq T$.\n",
    "\n",
    "Otherwise, we perform modulo-$T$ arithmetic with $z \\in \\{0,1,\\dots,M-1\\}$ and $M \\leq \\text{ the least prime factor of } T$.\n",
    "\n",
    "We represent the permutations by $T \\times T \\times M$ lookup tables. In practice, if $T$ is large, it's probably to better to compute them on the fly by implementing the modular or finite-field arithmetic as needed."
   ]
  },
  {
   "cell_type": "code",
   "execution_count": 5,
   "id": "33bb309f-40f1-4b45-8d07-da208149470a",
   "metadata": {
    "tags": []
   },
   "outputs": [
    {
     "data": {
      "text/plain": [
       "false"
      ]
     },
     "execution_count": 5,
     "metadata": {},
     "output_type": "execute_result"
    }
   ],
   "source": [
    "involutions = false"
   ]
  },
  {
   "cell_type": "code",
   "execution_count": 6,
   "id": "43c7f820-e515-4baa-9423-81f5f35efa7c",
   "metadata": {
    "tags": []
   },
   "outputs": [],
   "source": [
    "if net_type == \"prime power\"\n",
    "    if involutions == false\n",
    "        π_LUT = [(F_T_LABELS[F_T_SET[j]], F_T_LABELS[F_T_SET[i]+F_T_SET[k]*F_T_SET[j]]) for i in 1:T, j in 1:T, k in 1:M]\n",
    "        π_inv_LUT = [(F_T_LABELS[-F_T_SET[k]*F_T_SET[i]+F_T_SET[j]], F_T_LABELS[F_T_SET[i]]) for i in 1:T, j in 1:T, k in 1:M]\n",
    "    else # involutions\n",
    "        π_LUT = [(F_T_LABELS[-F_T_SET[k]*F_T_SET[i]+F_T_SET[j]], F_T_LABELS[F_T_SET[i]-F_T_SET[k]^2*F_T_SET[i]+F_T_SET[k]*F_T_SET[j]]) for i in 1:T, j in 1:T, k in 1:M]\n",
    "        π_inv_LUT = copy(π_LUT)\n",
    "    end\n",
    "    @assert [π_inv_LUT[π_LUT[i,j,k][1]+1, π_LUT[i,j,k][2]+1, k] .+ 1 for i in 1:T, j in 1:T, k in 1:M] == [(i,j) for i in 1:T, j in 1:T, k in 1:M]\n",
    "    @assert [π_LUT[π_inv_LUT[i,j,k][1]+1, π_inv_LUT[i,j,k][2]+1, k] .+ 1 for i in 1:T, j in 1:T, k in 1:M] == [(i,j) for i in 1:T, j in 1:T, k in 1:M]\n",
    "elseif net_type == \"sufficient lpf\"\n",
    "    if involutions == false\n",
    "        π_LUT = [mod.( (j, i + z*j) , T)  for i in 0:T-1, j in 0:T-1, z in 0:M-1]\n",
    "        π_inv_LUT = [mod.( (-z*i + j, i) , T) for i in 0:T-1, j in 0:T-1, z in 0:M-1]\n",
    "    else # involutions\n",
    "        π_LUT = [mod.( (-z*i + j, (1-z^2)*i + z*j) , T) for i in 0:T-1, j in 0:T-1, z in 0:M-1]\n",
    "        π_inv_LUT = copy(π_LUT)\n",
    "    end\n",
    "    @assert [π_inv_LUT[π_LUT[i,j,k][1]+1, π_LUT[i,j,k][2]+1, k] .+ 1 for i in 1:T, j in 1:T, k in 1:M] == [(i,j) for i in 1:T, j in 1:T, k in 1:M]\n",
    "    @assert [π_LUT[π_inv_LUT[i,j,k][1]+1, π_inv_LUT[i,j,k][2]+1, k] .+ 1 for i in 1:T, j in 1:T, k in 1:M] == [(i,j) for i in 1:T, j in 1:T, k in 1:M]\n",
    "end"
   ]
  },
  {
   "cell_type": "markdown",
   "id": "04edcc65-76c7-4a25-953a-c7652e79902e",
   "metadata": {},
   "source": [
    "The following cell is optional and visualizes the permutations by applying them to the first matrix displayed. These permutations have the property that any row of any matrix intersects with a row of any other matrix in precisely one position. The number-theoretic conditions on $T$ are needed to be able to construct such permutations."
   ]
  },
  {
   "cell_type": "code",
   "execution_count": 7,
   "id": "d5887a3f-2fdc-4111-846e-6deea165a991",
   "metadata": {
    "tags": []
   },
   "outputs": [
    {
     "data": {
      "text/plain": [
       "2×2 Matrix{Int64}:\n",
       " 1  2\n",
       " 3  4"
      ]
     },
     "metadata": {},
     "output_type": "display_data"
    },
    {
     "data": {
      "text/plain": [
       "2×2 Matrix{Int64}:\n",
       " 1  3\n",
       " 2  4"
      ]
     },
     "metadata": {},
     "output_type": "display_data"
    },
    {
     "data": {
      "text/plain": [
       "2×2 Matrix{Int64}:\n",
       " 1  4\n",
       " 2  3"
      ]
     },
     "metadata": {},
     "output_type": "display_data"
    }
   ],
   "source": [
    "if T != 1\n",
    "    tile = [j + T*i + 1 for i in 0:T-1, j in 0:T-1];\n",
    "    display(tile)\n",
    "    for k in 1:M\n",
    "        display([tile[π_LUT[i,j,k][1] + 1,π_LUT[i,j,k][2] + 1] for i in 1:T, j in 1:T])\n",
    "    end\n",
    "end"
   ]
  },
  {
   "cell_type": "markdown",
   "id": "b9a6b27c-d248-4d3f-8dfe-be178c253475",
   "metadata": {},
   "source": [
    "\n",
    "Choose a value of $L$ such that your component code length is\n",
    "$(M+1)LT$ and the number of parity bits of your component code (length minus dimension) is $r \\leq LT$. This determines the overall rate of your higher-order staircase code:\n",
    "$$\n",
    "R_\\mathsf{unterminated} = 1-\\frac{r}{LT}\n",
    "$$\n",
    "\n",
    "Currently, the supported values of $L$ are:\n",
    "- When $M = 1$: all $L\\geq 1$\n",
    "- When $M = 2$: all $L\\geq 1$\n",
    "- When $M = 3$: $L \\in \\{1,2,\\dots,15\\}$\n",
    "- When $M = 4$: $L \\in \\{1,2,\\dots,8,10\\}$\n",
    "- When $M \\in \\{5,6,7,8,9\\}$: $L = 1$\n",
    "\n",
    "Note that the value of $L$ should theoretically have a relatively small impact on code performance. Therefore, for a constant code rate determined by constant $LT$, we can choose various $L$ and $T$ subject to the current constraints on $L$ and $T$. A larger $L$ results in encoding and decoding memory reductions by up to the following theoretical limits in the regime of high code rates:\n",
    "\n",
    "| M  | encoding | decoding |\n",
    "|---|---|---|\n",
    "| 1  | 50.00%  | 50.00%  |\n",
    "| 2  | 25.00%  | 25.00%  |\n",
    "| 3  | 16.67%  | 14.29%  |\n",
    "| 4  | 18.18%  | 16.67%  |\n",
    "\n",
    "Note further that the restrictions on the values of $L$ above are simply because those are the values for which we have found or know of special combinatorial objects (sum-of-lengths-optimal difference triangle sets) which translate to memory-optimal higher-order staircase codes approaching the above limits. These can be expanded in the future.\n",
    "\n",
    "Lastly, note that $T$ also determines the number of component code encoders that can naturally operate in parallel during the encoding procedure. This also informs the choice of $L$ for a given code rate. \n",
    "\n",
    "Therefore, $L$ can be regarded as a memory–parallelism tradeoff parameter with both extremes $T = 1$ and $L = 1$\n",
    "leading to nontrivial codes which support any code rate and bit degree (subject to current limitations on $L$)."
   ]
  },
  {
   "cell_type": "code",
   "execution_count": 8,
   "id": "adfe5e10-79b7-41be-9aa2-8c6786fa233e",
   "metadata": {},
   "outputs": [
    {
     "data": {
      "text/plain": [
       "2"
      ]
     },
     "execution_count": 8,
     "metadata": {},
     "output_type": "execute_result"
    }
   ],
   "source": [
    "L = 2"
   ]
  },
  {
   "cell_type": "code",
   "execution_count": 9,
   "id": "9484efcf-6493-4bba-8dda-63183a0927c2",
   "metadata": {
    "tags": []
   },
   "outputs": [
    {
     "data": {
      "text/plain": [
       "2×3 Matrix{Int64}:\n",
       " 0  2  7\n",
       " 0  3  4"
      ]
     },
     "execution_count": 9,
     "metadata": {},
     "output_type": "execute_result"
    }
   ],
   "source": [
    "if M == 1\n",
    "    DTS = trivial_dts(L);\n",
    "elseif M == 2;\n",
    "    DTS = skokeefe(L);\n",
    "elseif M == 3 || M == 4\n",
    "    DTS_name_list = readdir(\"sum-of-lengths-scope-optimal-DTSs/\");\n",
    "    DTS_index = findlast(startswith.(DTS_name_list, string(L)*\"-\"*string(M)));\n",
    "    if DTS_index == nothing\n",
    "        throw(\"L and M combination is currently unsupported!\")\n",
    "    else\n",
    "        DTS = readdlm(\"sum-of-lengths-scope-optimal-DTSs/\"*DTS_name_list[DTS_index], Int64);\n",
    "    end \n",
    "elseif L == 1 && M == 5\n",
    "    DTS = [0 1 4 10 12 17]\n",
    "elseif L == 1 && M == 6\n",
    "    DTS = [0 1 4 10 18 23 25]\n",
    "elseif L == 1 && M == 7\n",
    "    DTS = [0 1 4 9 15 22 32 34]\n",
    "elseif L == 1 && M == 8\n",
    "    DTS = [0 1 5 12 25 27 35 41 44]\n",
    "elseif L == 1 && M == 9\n",
    "    DTS = [0 1 6 10 23 26 34 41 53 55]\n",
    "else\n",
    "    throw(\"L and M combination is currently unsupported!\")\n",
    "end"
   ]
  },
  {
   "cell_type": "markdown",
   "id": "e69515b7-cfa7-4b52-8d69-48e749163e68",
   "metadata": {},
   "source": [
    "The difference triangle set (DTS) determined above determines inter-tile delays such that distinct component codewords share at most a single tile. We have a choice in how to order the tiles in constructing the code by setting $\\textsf{naturalDelays}$ to $\\textsf{true}$ or $\\textsf{false}$. Arbitrary orderings of these delays beyond the two options I provide are admissible. The convention I use in [Higher-Order Staircase Codes](https://arxiv.org/pdf/2312.13415) is $\\textsf{naturalDelays} = \\textsf{true}$. You can visualize them and choose whatever is more natural to you or convenient for the implementation method you have in mind. "
   ]
  },
  {
   "cell_type": "code",
   "execution_count": 10,
   "id": "605c9aee-c64f-4a80-aafe-11d2b3db7721",
   "metadata": {
    "tags": []
   },
   "outputs": [
    {
     "data": {
      "text/plain": [
       "false"
      ]
     },
     "execution_count": 10,
     "metadata": {},
     "output_type": "execute_result"
    }
   ],
   "source": [
    "naturalDelays = false"
   ]
  },
  {
   "cell_type": "markdown",
   "id": "481820d6-d9e6-42ae-aad7-54a746343a88",
   "metadata": {},
   "source": [
    "A codeword (or codeword stream) of a higher-order staircase code can be represented as $L$ streams of $T\\times T$ tiles. The streams are subjected to inter-tile delays and intra-tile permutations. The following triples $(a,b,c)$ consist of the stream label $a \\in \\{0,1,\\dots,L-1\\}$, the permutation index $b \\in \\{1,2,\\dots,M\\}$, and the tile delay $c$."
   ]
  },
  {
   "cell_type": "code",
   "execution_count": 11,
   "id": "f135bb75-d87f-4c71-b99f-9af7bc99eed9",
   "metadata": {
    "tags": []
   },
   "outputs": [
    {
     "data": {
      "text/plain": [
       "4-element Vector{Tuple{Int64, Int64, Int64}}:\n",
       " (0, 1, 2)\n",
       " (1, 1, 3)\n",
       " (0, 2, 7)\n",
       " (1, 2, 4)"
      ]
     },
     "execution_count": 11,
     "metadata": {},
     "output_type": "execute_result"
    }
   ],
   "source": [
    "block_delays = vec([(i-1, j-1, DTS[i,j]) for i in 1:L, j in 2:M+1])"
   ]
  },
  {
   "cell_type": "code",
   "execution_count": 12,
   "id": "9ac473ad-d076-46f3-bb86-352a865b4746",
   "metadata": {
    "tags": []
   },
   "outputs": [
    {
     "data": {
      "text/plain": [
       "4-element Vector{Tuple{Int64, Int64, Int64}}:\n",
       " (1, 2, 4)\n",
       " (0, 2, 7)\n",
       " (1, 1, 3)\n",
       " (0, 1, 2)"
      ]
     },
     "execution_count": 12,
     "metadata": {},
     "output_type": "execute_result"
    }
   ],
   "source": [
    "if naturalDelays == true\n",
    "    block_delays = sort(block_delays, by = x -> x[3], rev = true)\n",
    "else\n",
    "    block_delays = sort(block_delays, by = x -> (x[2],x[1]), rev = true)\n",
    "end"
   ]
  },
  {
   "cell_type": "code",
   "execution_count": 13,
   "id": "661c3a05-9de9-44c0-acd1-bef05523430f",
   "metadata": {
    "tags": []
   },
   "outputs": [],
   "source": [
    "# block_delays = reverse(block_delays)"
   ]
  },
  {
   "cell_type": "markdown",
   "id": "d5c16786-2ef3-4eb0-9c4b-84e4c22d7b7e",
   "metadata": {},
   "source": [
    "We now translate higher-order staircase codes into the language of [Zipper Codes](https://ieeexplore.ieee.org/stamp/stamp.jsp?tp=&arnumber=9843869). The transmitted codeword (or codeword stream) is represented by a semi-infinite matrix of width $LT$ referred to as the *real buffer*:\n",
    "$$\n",
    "\\begin{pmatrix}\n",
    "\\vdots\\\\\n",
    "\\text{——}\\; \\mathbf{0} \\; \\text{——} \\\\\n",
    "\\text{——} \\; \\mathbf{0} \\; \\text{——}  \\\\\n",
    "\\text{——} \\; \\mathbf{c}_{1} \\; \\text{——}  \\\\\n",
    "\\text{——} \\; \\mathbf{c}_{2} \\; \\text{——}  \\\\\n",
    "\\text{——} \\; \\mathbf{c}_{3} \\; \\text{——} \\\\\n",
    "\\vdots\n",
    "\\end{pmatrix}\n",
    "$$\n",
    "Each $\\mathbf{c}_i$ consists of $LT-r$ information bits and $r$ parity bits. A *virtual buffer* of width $MLT$ is adjoined\n",
    "to the real buffer to form $\\mathsf{BUFFER}$ where\n",
    "$$\n",
    "\\mathsf{BUFFER} =\n",
    "\\begin{pmatrix}\n",
    "\\vdots &\\vdots\\\\\n",
    "\\text{——}\\; \\mathbf{0} \\; \\text{——}  &\\text{——}\\; \\mathbf{0} \\; \\text{——} \\\\\n",
    "\\text{——}\\; \\mathbf{0} \\; \\text{——}  &\\text{——} \\; \\mathbf{0} \\; \\text{——}  \\\\\n",
    "\\text{——} \\; \\mathbf{v}_{1} \\; \\text{——}  &\\text{——} \\; \\mathbf{c}_{1} \\; \\text{——}  \\\\\n",
    "\\text{——} \\; \\mathbf{v}_{2} \\; \\text{——}  &\\text{——} \\; \\mathbf{c}_{2} \\; \\text{——}  \\\\\n",
    "\\text{——} \\; \\mathbf{v}_{3} \\; \\text{——}  &\\text{——} \\; \\mathbf{c}_{3} \\; \\text{——} \\\\\n",
    "\\vdots &\\vdots\n",
    "\\end{pmatrix}\\text{.}\n",
    "$$\n",
    "Each $\\mathbf{v}_i$ contains $MLT$ bits that are *copied* from the real buffer thus do not need to be transmitted; only the real buffer is transmitted. Rows\n",
    "of $\\mathsf{BUFFER}$ belong to some specified component code of length $(M+1)LT$ and dimension $(M+1)LT-r$. This\n",
    "is achieved by specifying the entries of $\\mathbf{v}_i$ which are given by $(\\mathsf{BUFFER})_{(i,j)}$ for \n",
    "$j\\in \\{0,1,\\dots, MLT - 1\\}$ as \n",
    "$$\n",
    "(\\mathsf{BUFFER})_{(i,j)} = (\\mathsf{BUFFER})_{\\phi(i,j)}\n",
    "$$\n",
    "where the function $\\phi(i,j)$:\n",
    "\\begin{align*}\n",
    "\\phi \\colon \\mathbb{Z}\\times \\{0,1,\\dots, MLT - 1\\} &\\longrightarrow \\mathbb{Z} \\times \\{MLT+0, MLT+1,\\dots, MLT + LT -1\\}\\\\\n",
    "                        (i,j) &\\longmapsto \\phi(i,j) = (\\phi_1(i,j),\\phi_2(i,j))\n",
    "\\end{align*}\n",
    "is termed the *interleaver map*. By definition, the interleaver map only copies from the real buffer. To practically realize an encoding procedure, we need causality, i.e., that $\\phi_1(i,j) \\leq i$. In addition to causality, we usually need periodicity meaning that there \n",
    "exists $\\nu$ such that $\\phi(i + \\nu,j) = \\phi(i,j) + (\\nu, 0)$. For higher-order staircase codes, we have causality and \n",
    "period $\\nu = T$. A periodic interleaver map is fully specified by its values over one period $\\phi(i,j)$ for \n",
    "$i \\in \\{0,1,\\dots,T-1\\}$ and $j\\in \\{0,1,\\dots,MLT-1\\}$."
   ]
  },
  {
   "cell_type": "markdown",
   "id": "b39afa7b-110e-4d15-a598-b29ac32bcf42",
   "metadata": {},
   "source": [
    "The following function defines the interleaver map for the [Higher-Order Staircase Code](https://arxiv.org/pdf/2312.13415) for which we have at this point specified all parameters. "
   ]
  },
  {
   "cell_type": "code",
   "execution_count": 14,
   "id": "4c5b92ac-d17f-45b5-bc08-92b587c9fd60",
   "metadata": {
    "tags": []
   },
   "outputs": [
    {
     "data": {
      "text/plain": [
       "ϕ (generic function with 1 method)"
      ]
     },
     "execution_count": 14,
     "metadata": {},
     "output_type": "execute_result"
    }
   ],
   "source": [
    "if T != 1\n",
    "    function ϕ(i,j)\n",
    "        (input_class, permutation_index, block_delay_value) = block_delays[floor(Int64,j/T) + 1];\n",
    "        ϕ_1 = floor(Int64,i/T)*T - block_delay_value*T + π_LUT[mod(i,T) + 1, mod(j,T) + 1, permutation_index][1]\n",
    "        ϕ_2 = M*L*T + (L-1-input_class)*T + π_LUT[mod(i,T) + 1, mod(j,T) + 1, permutation_index][2]\n",
    "        return (ϕ_1, ϕ_2)\n",
    "    end;\n",
    "else\n",
    "    function ϕ(i,j)\n",
    "        (input_class, permutation_index, block_delay_value) = block_delays[j + 1];\n",
    "        ϕ_1 = i - block_delay_value\n",
    "        ϕ_2 = M*L + (L-1-input_class)\n",
    "        return (ϕ_1, ϕ_2)\n",
    "    end;\n",
    "end"
   ]
  },
  {
   "cell_type": "markdown",
   "id": "c238613d-fe42-47f3-b929-63199701e036",
   "metadata": {},
   "source": [
    "The following cell is optional and produces a visualization of the encoding pattern in the form of a text file representing $\\mathsf{BUFFER}$. \n",
    "We represent $\\mathbf{c}_1$ as $1,2,\\dots,LT$, $\\mathbf{c}_2$ as $LT + 1, LT + 2,\\dots, 2LT$, and so on. This cell should only be\n",
    "run with small values of $T$ to avoid writing a very large text file and possibly crashing your browser. In this visualization,\n",
    "no pair of integers should ever appear in the same row twice. This is a key property of [classical staircase codes](https://ieeexplore.ieee.org/stamp/stamp.jsp?tp=&arnumber=6074908) that is preserved\n",
    "by [Higher-Order Staircase Codes](https://arxiv.org/pdf/2312.13415)."
   ]
  },
  {
   "cell_type": "code",
   "execution_count": 15,
   "id": "fe7309b4-178a-4c39-853a-567a3af68f04",
   "metadata": {
    "tags": []
   },
   "outputs": [],
   "source": [
    "numRows = T*maximum(DTS) + 3*T\n",
    "virtual_real = zeros(Int64, T*maximum(DTS), (M+1)*L*T)\n",
    "offset = size(virtual_real)[1];\n",
    "for row in 0:numRows-1\n",
    "    virtual = [virtual_real[ϕ(row+offset, j)[1] + 1, ϕ(row+offset, j)[2] + 1] for j in 0:M*L*T-1]'\n",
    "    real = [j + L*T*row + 1 for j in 0:L*T-1]'\n",
    "    virtual_real = [virtual_real; [virtual real]]\n",
    "end\n",
    "writedlm(\"virtual_real.txt\", virtual_real)"
   ]
  },
  {
   "cell_type": "code",
   "execution_count": 16,
   "id": "29be42ae-f573-4b47-9ba8-8a1d917b815f",
   "metadata": {
    "tags": []
   },
   "outputs": [
    {
     "name": "stdout",
     "output_type": "stream",
     "text": [
      "0\t0\t0\t0\t0\t0\t0\t0\t0\t0\t0\t0\n",
      "0\t0\t0\t0\t0\t0\t0\t0\t0\t0\t0\t0\n",
      "0\t0\t0\t0\t0\t0\t0\t0\t0\t0\t0\t0\n",
      "0\t0\t0\t0\t0\t0\t0\t0\t0\t0\t0\t0\n",
      "0\t0\t0\t0\t0\t0\t0\t0\t0\t0\t0\t0\n",
      "0\t0\t0\t0\t0\t0\t0\t0\t0\t0\t0\t0\n",
      "0\t0\t0\t0\t0\t0\t0\t0\t0\t0\t0\t0\n",
      "0\t0\t0\t0\t0\t0\t0\t0\t0\t0\t0\t0\n",
      "0\t0\t0\t0\t0\t0\t0\t0\t0\t0\t0\t0\n",
      "0\t0\t0\t0\t0\t0\t0\t0\t0\t0\t0\t0\n",
      "0\t0\t0\t0\t0\t0\t0\t0\t0\t0\t0\t0\n",
      "0\t0\t0\t0\t0\t0\t0\t0\t0\t0\t0\t0\n",
      "0\t0\t0\t0\t0\t0\t0\t0\t0\t0\t0\t0\n",
      "0\t0\t0\t0\t0\t0\t0\t0\t0\t0\t0\t0\n",
      "0\t0\t0\t0\t0\t0\t0\t0\t1\t2\t3\t4\n",
      "0\t0\t0\t0\t0\t0\t0\t0\t5\t6\t7\t8\n",
      "0\t0\t0\t0\t0\t0\t0\t0\t9\t10\t11\t12\n",
      "0\t0\t0\t0\t0\t0\t0\t0\t13\t14\t15\t16\n",
      "0\t0\t0\t0\t0\t0\t3\t7\t17\t18\t19\t20\n",
      "0\t0\t0\t0\t0\t0\t4\t8\t21\t22\t23\t24\n",
      "0\t0\t0\t0\t1\t5\t11\t15\t25\t26\t27\t28\n",
      "0\t0\t0\t0\t2\t6\t12\t16\t29\t30\t31\t32\n",
      "1\t6\t0\t0\t9\t13\t19\t23\t33\t34\t35\t36\n",
      "2\t5\t0\t0\t10\t14\t20\t24\t37\t38\t39\t40\n",
      "9\t14\t0\t0\t17\t21\t27\t31\t41\t42\t43\t44\n",
      "10\t13\t0\t0\t18\t22\t28\t32\t45\t46\t47\t48\n",
      "17\t22\t0\t0\t25\t29\t35\t39\t49\t50\t51\t52\n",
      "18\t21\t0\t0\t26\t30\t36\t40\t53\t54\t55\t56\n",
      "25\t30\t3\t8\t33\t37\t43\t47\t57\t58\t59\t60\n",
      "26\t29\t4\t7\t34\t38\t44\t48\t61\t62\t63\t64\n",
      "33\t38\t11\t16\t41\t45\t51\t55\t65\t66\t67\t68\n",
      "34\t37\t12\t15\t42\t46\t52\t56\t69\t70\t71\t72\n",
      "41\t46\t19\t24\t49\t53\t59\t63\t73\t74\t75\t76\n",
      "42\t45\t20\t23\t50\t54\t60\t64\t77\t78\t79\t80\n"
     ]
    }
   ],
   "source": [
    ";cat virtual_real.txt"
   ]
  },
  {
   "cell_type": "markdown",
   "id": "d1e2fd5e-1b44-434f-a13b-5fe6c4918997",
   "metadata": {},
   "source": [
    "We now now produce a [ZipperSim](https://www.comm.utoronto.ca/~frank/ZipperSim/index.html) configuration file corresponding to our interleaver map. [ZipperSim](https://www.comm.utoronto.ca/~frank/ZipperSim/index.html) currently only supports triple-error-correcting BCH codes with lengths $n \\in \\{127,255,511,1023\\}$ and corresponding numbers of parity bits $r\\in \\{21,24,27,30\\}$ as component codes (as well as component codes shortened from these). \n",
    "We must therefore have a component code length $(M+1)LT \\leq n$ for some $n$ as just listed. We must further have $r \\leq LT$. Note further that ZipperSim requires that the parent BCH code length $n$ be specified directly in the code by commenting and uncommenting in the source code as needed."
   ]
  },
  {
   "cell_type": "markdown",
   "id": "d9a680b0-5a54-4610-bdc3-9412aeab9678",
   "metadata": {},
   "source": [
    "Choose the parent component code length $n$:"
   ]
  },
  {
   "cell_type": "code",
   "execution_count": null,
   "id": "f9f8cacd-92b9-4c90-a153-90d693a3d30c",
   "metadata": {},
   "outputs": [],
   "source": [
    "n = 127"
   ]
  },
  {
   "cell_type": "code",
   "execution_count": null,
   "id": "615097d1-de1d-4c0b-87fa-898de742ef08",
   "metadata": {},
   "outputs": [],
   "source": [
    "if n ∉ [127,255,511,1023]\n",
    "    throw(\"Parent code length unsupported by ZipperSim!\")\n",
    "else\n",
    "    if n == 127\n",
    "        r = 21\n",
    "    elseif n == 255\n",
    "        r = 24\n",
    "    elseif n == 511\n",
    "        r = 27\n",
    "    elseif n == 1023\n",
    "        r = 30\n",
    "    end\n",
    "end"
   ]
  },
  {
   "cell_type": "code",
   "execution_count": null,
   "id": "1a221899-f85d-4ebc-82a1-549468437dc2",
   "metadata": {
    "tags": []
   },
   "outputs": [],
   "source": [
    "if (M+1)*L*T > n\n",
    "    throw(\"Parent component code too short!\")\n",
    "end\n",
    "if r > L*T\n",
    "    throw(\"r is too large!\")\n",
    "end"
   ]
  },
  {
   "cell_type": "code",
   "execution_count": null,
   "id": "9581ecd4-6f7e-4971-973e-8916bb492100",
   "metadata": {},
   "outputs": [],
   "source": [
    "println(\"virtual buffer width (m in ZipperSim): $(M*L*T) \")\n",
    "println(\"                    real buffer width: $(L*T) \")\n",
    "println(\"                component code length: $((M+1)L*T) \")\n",
    "println(\"     higher-order staircase code rate: $(1-r/(L*T)) \")"
   ]
  },
  {
   "cell_type": "markdown",
   "id": "be1c4d80-4572-443a-970f-50c32f25d0fb",
   "metadata": {},
   "source": [
    "[ZipperSim](https://www.comm.utoronto.ca/~frank/ZipperSim/index.html) measures the decoding window size by the number of component codewords in the decoding window, or, equivalently, the number of rows of the real buffer in the decoding window. This quantity is termed $\\textsf{bufferLen}$. As an empirically-determined rule of thumb, the decoding window size should be $2$ to $5$ times the constraint length defined in [Higher-Order Staircase Codes](https://arxiv.org/pdf/2312.13415). For [ZipperSim](https://www.comm.utoronto.ca/~frank/ZipperSim/index.html), the iteration count is specified in the source code while the decoding window size is specified in the configuration file."
   ]
  },
  {
   "cell_type": "markdown",
   "id": "fdd2b81d-dcff-4b4a-ace6-17e0213b7df1",
   "metadata": {},
   "source": [
    "Choose a constraint-length-multiple to determine the decoding window size:"
   ]
  },
  {
   "cell_type": "code",
   "execution_count": null,
   "id": "3b2e292b-23a7-4894-a735-ecaae40dc782",
   "metadata": {},
   "outputs": [],
   "source": [
    "cl_multiple = 3 "
   ]
  },
  {
   "cell_type": "code",
   "execution_count": null,
   "id": "7c52b887-a893-408c-9204-4bc7b89495f6",
   "metadata": {
    "tags": []
   },
   "outputs": [],
   "source": [
    "bufferLen = cl_multiple*(1+maximum(DTS))*T"
   ]
  },
  {
   "cell_type": "markdown",
   "id": "a7e2d2cf-9a42-4ff2-87ac-b07dc9402f43",
   "metadata": {},
   "source": [
    "The decoding window size in megabits is as follows:"
   ]
  },
  {
   "cell_type": "code",
   "execution_count": null,
   "id": "07ba843b-27fd-4099-93c9-3177c65e3fb8",
   "metadata": {
    "tags": []
   },
   "outputs": [],
   "source": [
    "bufferLen*L*T/(1e6)"
   ]
  },
  {
   "cell_type": "markdown",
   "id": "0c09da15-5b3e-4e62-97b1-0296aad8f62f",
   "metadata": {},
   "source": [
    "The following cell will create the [ZipperSim](https://www.comm.utoronto.ca/~frank/ZipperSim/index.html) configuration file:"
   ]
  },
  {
   "cell_type": "code",
   "execution_count": null,
   "id": "38de3a49-423e-4e24-af54-7cd3be89dfd1",
   "metadata": {},
   "outputs": [],
   "source": [
    "ZS_config = [\"period $T\"]\n",
    "ZS_config = vcat(ZS_config, \"n\"* prod(\" \" .* string.(ones(Int64, 1, T)*(M+1)*L*T)))\n",
    "ZS_config = vcat(ZS_config, \"k\"* prod(\" \" .* string.(ones(Int64, 1, T)*((M+1)*L*T-r))))\n",
    "ZS_config = vcat(ZS_config, \"m\"* prod(\" \" .* string.(ones(Int64, 1, T)*(M)*L*T)))\n",
    "ZS_config = vcat(ZS_config, [\"buffer_len $bufferLen\"])\n",
    "interleaver_map = [mod(j,2) == 0 ? i-ϕ(i,Int64(j/2))[1] : ϕ(i,Int64((j-1)/2))[2]  for i in 0:T-1, j in 0:2*M*L*T-1]\n",
    "interleaver_map = prod(string.(interleaver_map) .* \" \", dims = 2)\n",
    "ZS_config = vcat(ZS_config, [\"interleaver_map\"])\n",
    "ZS_config = vcat(ZS_config, interleaver_map)\n",
    "writedlm(\"ZS_config_file.txt\", ZS_config)"
   ]
  },
  {
   "cell_type": "code",
   "execution_count": null,
   "id": "9dbf2e70-f793-4a8e-942d-04b37c0e09c6",
   "metadata": {},
   "outputs": [],
   "source": []
  }
 ],
 "metadata": {
  "kernelspec": {
   "display_name": "Julia 1.10.4",
   "language": "julia",
   "name": "julia-1.10"
  },
  "language_info": {
   "file_extension": ".jl",
   "mimetype": "application/julia",
   "name": "julia",
   "version": "1.10.4"
  }
 },
 "nbformat": 4,
 "nbformat_minor": 5
}
